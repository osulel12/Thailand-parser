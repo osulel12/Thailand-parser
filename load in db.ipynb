{
 "cells": [
  {
   "cell_type": "markdown",
   "id": "41e86906",
   "metadata": {},
   "source": [
    "# Перед первым использованием установите библиотеки"
   ]
  },
  {
   "cell_type": "code",
   "execution_count": 85,
   "id": "cc012d10",
   "metadata": {},
   "outputs": [],
   "source": [
    "# !pip install pandas\n",
    "# !pip install numpy\n",
    "# !pip install pytest-warnings\n",
    "# !pip install contextlib2\n",
    "# !pip install psycopg2\n",
    "# !pip install SQLAlchemy\n",
    "# pip install beautifulsoup4\n",
    "# pip install requests\n",
    "# pip install more-itertools\n",
    "# pip install fuzzywuzzy"
   ]
  },
  {
   "cell_type": "markdown",
   "id": "2a564e5d",
   "metadata": {},
   "source": [
    "## Навигация\n",
    "- **[Формирование справочника стран](#Формирование-справочника-стран)**\n",
    "- **[Сбор курса THB](#Сбор-курса-THB)**\n",
    "- **[Сбор справочника измерений](#Сбор-справочника-измерений)**\n",
    "- **[Словарь стран](#Словарь-стран)**\n",
    "- **[Трансформация датафрейма](#Трансформация-датафрейма)**\n",
    "- **[Загрузка данных в БД](#Загрузка-данных-в-БД)**\n",
    "- **[Соборка кодов apk 24+](#Соборка-кодов-apk-24+)**"
   ]
  },
  {
   "cell_type": "code",
   "execution_count": 44,
   "id": "002b0783",
   "metadata": {},
   "outputs": [],
   "source": [
    "import pandas as pd\n",
    "import numpy as np\n",
    "import warnings\n",
    "import psycopg2\n",
    "from sqlalchemy import create_engine\n",
    "import sqlite3\n",
    "from datetime import datetime, timedelta, date\n",
    "import os\n",
    "import json\n",
    "import warnings\n",
    "warnings.simplefilter('ignore') "
   ]
  },
  {
   "cell_type": "code",
   "execution_count": 45,
   "id": "9d64ea2b",
   "metadata": {},
   "outputs": [],
   "source": [
    "from bs4 import BeautifulSoup\n",
    "import requests"
   ]
  },
  {
   "cell_type": "code",
   "execution_count": 46,
   "id": "56ad4719",
   "metadata": {},
   "outputs": [],
   "source": [
    "from itertools import product\n",
    "from fuzzywuzzy import fuzz, process"
   ]
  },
  {
   "cell_type": "code",
   "execution_count": 47,
   "id": "52ead563",
   "metadata": {},
   "outputs": [],
   "source": [
    "# Инициализация подключений для работы с БД\n",
    "engine = psycopg2.connect(user=os.getenv('USER'),\n",
    "                          # пароль, который указали при установке PostgreSQL\n",
    "                          password=os.getenv('PASSWORD'),\n",
    "                          host=os.getenv('HOST'),\n",
    "                          port=os.getenv('PORT'),\n",
    "                          database=os.getenv('DATABASE'))\n",
    "\n",
    "conn = create_engine('postgresql://{}:{}@{}:{}/{}'\n",
    "                     .format(os.getenv('USER'), os.getenv('PASSWORD'), os.getenv('HOST'), os.getenv('PORT'), os.getenv('DATABASE')))\n"
   ]
  },
  {
   "cell_type": "code",
   "execution_count": 48,
   "id": "ab4b5f7d",
   "metadata": {},
   "outputs": [],
   "source": [
    "# Считываем конфиг названия таблиц и базы данных\n",
    "with open('config_js_name_table_by_transform.json', 'r') as fl:\n",
    "    name_table = json.load(fl)"
   ]
  },
  {
   "cell_type": "code",
   "execution_count": 49,
   "id": "d82f0dfb",
   "metadata": {},
   "outputs": [],
   "source": [
    "# Считываем данные из БД sqlite\n",
    "df_tmp_data = pd.read_sql(f\"SELECT * FROM {name_table['name_tb_sqlite']}\", con=sqlite3.connect(name_table['sqlite_db']))"
   ]
  },
  {
   "cell_type": "markdown",
   "id": "c9af76af",
   "metadata": {},
   "source": [
    "# Формирование справочника стран \n",
    "*выполнить если необходимо актуализировать данные*"
   ]
  },
  {
   "cell_type": "code",
   "execution_count": 17,
   "id": "385f51da",
   "metadata": {},
   "outputs": [],
   "source": [
    "# Получаем разметку страницы для сборка названий стран из источника\n",
    "reposns_country = requests.get('https://www.customs.go.th/statistic_report.php?lang=en&').text"
   ]
  },
  {
   "cell_type": "code",
   "execution_count": 18,
   "id": "98380e29",
   "metadata": {},
   "outputs": [],
   "source": [
    "# Получаем названия стран\n",
    "need_soup_element = BeautifulSoup(reposns_country, 'lxml').find('select', id = 'country_code').find_all('option')"
   ]
  },
  {
   "cell_type": "code",
   "execution_count": 19,
   "id": "e5f88109",
   "metadata": {},
   "outputs": [],
   "source": [
    "# Получаем нужные коды из БД\n",
    "df_db_country = pd.read_sql(f\"SELECT name_eng, code FROM {name_table['name_schema_reference']}.{name_table['name_tb_country']}  WHERE name_rus NOT LIKE '%недейств%'\", \n",
    "                            con=engine)"
   ]
  },
  {
   "cell_type": "code",
   "execution_count": 20,
   "id": "e4eca04f",
   "metadata": {},
   "outputs": [],
   "source": [
    "# Получаем уже записанные коды из истоника для валидации дубликатов\n",
    "df_sourse_thai = pd.read_sql(f\"SELECT name_country_source FROM {name_table['name_schema_dl']}.{name_table['name_table_dl']} WHERE source_id = 5\", \n",
    "                             con=engine)"
   ]
  },
  {
   "cell_type": "code",
   "execution_count": 21,
   "id": "b0696e7a",
   "metadata": {},
   "outputs": [],
   "source": [
    "# Словарь страна: код страны\n",
    "dct_db_country = {k: v for k, v in zip(df_db_country.name_eng, df_db_country.code)}"
   ]
  },
  {
   "cell_type": "code",
   "execution_count": 22,
   "id": "db935bfd",
   "metadata": {},
   "outputs": [],
   "source": [
    "# Список кодов из источника\n",
    "l_in_source = [i.text.split(' - ')[-1] for i in need_soup_element if i.text.split(' - ')[-1] not in df_sourse_thai.name_country_source.tolist()]"
   ]
  },
  {
   "cell_type": "code",
   "execution_count": 110,
   "id": "cf8a8e58",
   "metadata": {},
   "outputs": [],
   "source": [
    "# Скрипт сопоставления названия стран в источнике и БД\n",
    "dct_for_df = {'name_eng': [], 'name_country_source': [], 'source_id': []}\n",
    "for db, source in product(df_db_country.name_eng, l_in_source):\n",
    "    \n",
    "    if db == source.title() or fuzz.ratio(db, source.title()) > 65 and source != 'FRENCH SOUTHERN TERRITORIES':\n",
    "        dct_for_df['name_eng'].append(db)\n",
    "        dct_for_df['name_country_source'].append(source)\n",
    "        dct_for_df['source_id'].append(5)\n",
    "#         print(db, source)\n"
   ]
  },
  {
   "cell_type": "code",
   "execution_count": null,
   "id": "f72157dd",
   "metadata": {},
   "outputs": [],
   "source": [
    "# Создаем датафрейм для загрузки в БД\n",
    "df_to_postgre = pd.DataFrame(dct_for_df)\n",
    "\n",
    "df_to_postgre['code'] = df_to_postgre.name_eng.apply(lambda x: dct_db_country[x])"
   ]
  },
  {
   "cell_type": "code",
   "execution_count": null,
   "id": "ccee9290",
   "metadata": {},
   "outputs": [],
   "source": [
    "df_to_postgre"
   ]
  },
  {
   "cell_type": "code",
   "execution_count": null,
   "id": "e4a61794",
   "metadata": {},
   "outputs": [],
   "source": [
    "# Загрузка данных\n",
    "df_to_postgre.to_sql(name_table['name_table_dl'], con=conn, schema=name_table['name_schema_dl'], if_exists='append', index=False)"
   ]
  },
  {
   "cell_type": "code",
   "execution_count": 169,
   "id": "23604d91",
   "metadata": {},
   "outputs": [],
   "source": [
    "# Словари не сопоставленных стран\n",
    "l_source = ['BOLIVIA', 'BOUVET ISLAND', 'CONGO, THE DEMOCRATIC REPUBLIC OF THE',  'CZECH REPUBLIC', 'EAST TIMOR', 'FRANCE', 'MONACO',\n",
    "           'GUERNSEY', 'HONG KONG', 'IRAN (ISLAMIC REPUBLIC OF)', 'ISLE OF MAN', 'JERSEY', 'KOREA DPR', 'KOREA,REPUBLIC OF', \n",
    "           'LAO PDR', 'MACAU', 'MACEDONIA', 'MICRONESIA (FEDERATED STATES OF)', 'MOLDOVA REPUBLIC OF', 'SINT MAARTEN',\n",
    "           'SVALBARD AND JAN MAYEN', 'SYRIAN ARAB REPUBLIC', 'TANZANIA UNITED REPUBLIC OF', 'TÜRKIYE', 'UNITED STATES', 'VATICAN CITY',\n",
    "           'VIRGIN ISLANDS (BRITISH)', 'รหัสประเทศสำหรับเขตต่อเนื่องฯ', 'รหัสประเทศสำหรับเขตปลอดอากร', 'รหัสประเทศสำหรับเขตอุตสาหกรรมส่งออก']\n",
    "\n",
    "l_db = ['Bolivia (Plurinational State of)', 'Ile Bouvet', 'Democratic Republic of the Congo', 'Czechia', 'Timor-Leste', 'France and Monaco', 'France and Monaco',\n",
    "       'Bailiwick of Guernsey', 'China, Hong Kong SAR', 'Iran', 'Man Island', 'Bailiwick of Jersey', \"Democratic People's Republic of Korea\",\n",
    "       'Rep. of Korea', \"Lao People's Dem. Rep.\", 'China, Macao Special Administrative Region', 'TFYR of Macedonia', 'Federated State of Micronesia',\n",
    "       'Rep. of Moldova', 'Saint Martin (Franch part)', 'Norway, excluding Svalbard and Jan Mayen', 'Syria', 'United Rep. of Tanzania',\n",
    "       'Turkey', 'USA, Puerto Rico and US Virgin Islands', 'Holy See (Vatican City State)', 'British Virgin Islands', 'Special Categories',\n",
    "       'Free Zones', 'Bunkers']"
   ]
  },
  {
   "cell_type": "code",
   "execution_count": 183,
   "id": "04a1edb3",
   "metadata": {},
   "outputs": [],
   "source": [
    "l_source_otger = ['TAIWAN, PROVINCE OF CHINA', 'FRENCH SOUTHERN TERRITORIES', 'ZAIRE', 'DDD', 'FOR HIGH SEA ZONE', 'FRANCE, METROPOLITAN',\n",
    "             'LIBYAN ARAB JAMAHIRIYA', 'OTHER COUNTRY', 'PALESTINIAN TERRITORY, OCCUPIED']\n",
    "\n",
    "l_db_otger = ['Other Asia, not elsewhere specified', 'French South Antarctic Territories', 'Democratic Republic of the Congo',\n",
    "                 'Areas, not elsewhere specified', 'Areas, not elsewhere specified', 'Areas, not elsewhere specified',\n",
    "                 'Areas, not elsewhere specified', 'Areas, not elsewhere specified', 'Areas, not elsewhere specified']"
   ]
  },
  {
   "cell_type": "code",
   "execution_count": 184,
   "id": "aa48b334",
   "metadata": {},
   "outputs": [],
   "source": [
    "dct_other_val = {'name_eng': l_db_otger, 'name_country_source': l_source_otger}"
   ]
  },
  {
   "cell_type": "code",
   "execution_count": 185,
   "id": "51a9295a",
   "metadata": {},
   "outputs": [],
   "source": [
    "df_for_postgre_2 = pd.DataFrame(dct_other_val)\n",
    "df_for_postgre_2['source_id'] = 5\n",
    "df_for_postgre_2['code'] = df_for_postgre_2.name_eng.apply(lambda x: dct_db_country[x])"
   ]
  },
  {
   "cell_type": "code",
   "execution_count": 186,
   "id": "08ebbdfa",
   "metadata": {},
   "outputs": [
    {
     "data": {
      "text/plain": [
       "9"
      ]
     },
     "execution_count": 186,
     "metadata": {},
     "output_type": "execute_result"
    }
   ],
   "source": [
    "df_for_postgre_2.to_sql(name_table['name_table_dl'], con=conn, schema=name_table['name_schema_dl'], if_exists='append', index=False)"
   ]
  },
  {
   "cell_type": "markdown",
   "id": "18e8e9fa",
   "metadata": {},
   "source": [
    "# Сбор курса THB"
   ]
  },
  {
   "cell_type": "code",
   "execution_count": 143,
   "id": "9372c566",
   "metadata": {},
   "outputs": [],
   "source": [
    "# https://ru.investing.com/currencies/usd-thb-historical-data\n",
    "# ссылка для скачивания файла"
   ]
  },
  {
   "cell_type": "code",
   "execution_count": 50,
   "id": "af3825ec",
   "metadata": {},
   "outputs": [],
   "source": [
    "df_bth = pd.read_csv('Прошлые данные - USD_THB.csv')"
   ]
  },
  {
   "cell_type": "code",
   "execution_count": 51,
   "id": "f509e39b",
   "metadata": {},
   "outputs": [],
   "source": [
    "df_bth['price'] = df_bth['Цена'].apply(lambda x: float(x.replace(',', '.')))"
   ]
  },
  {
   "cell_type": "code",
   "execution_count": 52,
   "id": "98cb1cfb",
   "metadata": {},
   "outputs": [],
   "source": [
    "df_bth['period'] = df_bth['Дата'].apply(lambda x: '-'.join(x.split('.')[::-1]))"
   ]
  },
  {
   "cell_type": "code",
   "execution_count": 53,
   "id": "84cfc3fd",
   "metadata": {},
   "outputs": [],
   "source": [
    "dct_currency = {k: v for k, v in zip(df_bth.period, df_bth.price)}"
   ]
  },
  {
   "cell_type": "code",
   "execution_count": 54,
   "id": "db88ab06",
   "metadata": {},
   "outputs": [
    {
     "data": {
      "text/plain": [
       "{'2023-10-01': 36.414,\n",
       " '2023-09-01': 36.51,\n",
       " '2023-08-01': 34.98,\n",
       " '2023-07-01': 34.21,\n",
       " '2023-06-01': 35.27,\n",
       " '2023-05-01': 34.64,\n",
       " '2023-04-01': 34.12,\n",
       " '2023-03-01': 34.16,\n",
       " '2023-02-01': 35.22,\n",
       " '2023-01-01': 32.84}"
      ]
     },
     "execution_count": 54,
     "metadata": {},
     "output_type": "execute_result"
    }
   ],
   "source": [
    "dct_currency"
   ]
  },
  {
   "cell_type": "markdown",
   "id": "dcd0abdc",
   "metadata": {},
   "source": [
    "# Сбор справочника измерений"
   ]
  },
  {
   "cell_type": "code",
   "execution_count": 55,
   "id": "31a52783",
   "metadata": {},
   "outputs": [
    {
     "data": {
      "text/plain": [
       "array(['(C62)', '(KGM)', 'seeds', 'spinosum', 'fractions', 'wax)',\n",
       "       'beans', '48', 'Other', 'sale', '(LTR)', 'frozen', 'maize',\n",
       "       '(RBD)'], dtype=object)"
      ]
     },
     "execution_count": 55,
     "metadata": {},
     "output_type": "execute_result"
    }
   ],
   "source": [
    "# Провермяем все ли единици измерения учтены\n",
    "# Если нет, то добавить новые в словарь dct_deizm\n",
    "# Значение является измерением, если имеет вид (название_измерения)\n",
    "df_tmp_data['desc'] = df_tmp_data.description.apply(lambda x: x.split()[-1])\n",
    "df_tmp_data.desc.unique()"
   ]
  },
  {
   "cell_type": "code",
   "execution_count": 56,
   "id": "0a35739e",
   "metadata": {},
   "outputs": [],
   "source": [
    "dct_deizm = {\n",
    "    \n",
    "    'KGM': 8,\n",
    "    'C62': 5,\n",
    "    'LTR': 7,\n",
    "    'OTHER': 1\n",
    "}"
   ]
  },
  {
   "cell_type": "markdown",
   "id": "bf451d86",
   "metadata": {},
   "source": [
    "# Словарь стран"
   ]
  },
  {
   "cell_type": "code",
   "execution_count": 57,
   "id": "0cdd023e",
   "metadata": {},
   "outputs": [],
   "source": [
    "# Создаем словарь стран, для валидации кодов партнеров\n",
    "df_country_db = pd.read_sql(f\"SELECT code, name_country_source FROM {name_table['name_schema_dl']}.{name_table['name_table_dl']} WHERE source_id = 5\",\n",
    "                           con=engine)\n",
    "dct_county = {k.strip(): v for k, v in zip(df_country_db.name_country_source, df_country_db.code)}"
   ]
  },
  {
   "cell_type": "markdown",
   "id": "71503f2a",
   "metadata": {},
   "source": [
    "# Трансформация датафрейма"
   ]
  },
  {
   "cell_type": "code",
   "execution_count": 58,
   "id": "f39aa6cc",
   "metadata": {},
   "outputs": [],
   "source": [
    "# Меняем название стран партнеров на их коды\n",
    "df_tmp_data['partner_code'] = df_tmp_data.partner_code.apply(lambda x: dct_county[x])"
   ]
  },
  {
   "cell_type": "code",
   "execution_count": 59,
   "id": "c5fef5ea",
   "metadata": {},
   "outputs": [],
   "source": [
    "# Достаем нужные названия измерений\n",
    "df_tmp_data['desc'] = df_tmp_data.description.apply(lambda x: x.split()[-1].replace('(', '').replace(')', '') \n",
    "                                                    if x.split()[-1].replace('(', '').replace(')', '') in dct_deizm\n",
    "                                                    else 'OTHER')\n",
    "# Корректируем коды qty_unit_code\n",
    "df_tmp_data['qty_unit_code'] = df_tmp_data.desc.apply(lambda x: dct_deizm[x])"
   ]
  },
  {
   "cell_type": "code",
   "execution_count": 60,
   "id": "8715003e",
   "metadata": {},
   "outputs": [],
   "source": [
    "# df_tmp_data['qty'] = df_tmp_data.apply(lambda x: x['netweight'] if x['qty_unit_code'] != 8 else 0, axis=1)\n",
    "df_tmp_data['qty'] = df_tmp_data['netweight']\n",
    "df_tmp_data['netweight'] = df_tmp_data.apply(lambda x: x['netweight'] if x['qty_unit_code'] == 8 else 0, axis=1)"
   ]
  },
  {
   "cell_type": "code",
   "execution_count": 61,
   "id": "3e7de298",
   "metadata": {},
   "outputs": [],
   "source": [
    "# Приводим trade_value к USD \n",
    "df_tmp_data['trade_value'] = df_tmp_data.apply(lambda x: x['trade_value'] / dct_currency[x['period']], axis=1)"
   ]
  },
  {
   "cell_type": "code",
   "execution_count": 62,
   "id": "913e2942",
   "metadata": {},
   "outputs": [
    {
     "data": {
      "text/html": [
       "<div>\n",
       "<style scoped>\n",
       "    .dataframe tbody tr th:only-of-type {\n",
       "        vertical-align: middle;\n",
       "    }\n",
       "\n",
       "    .dataframe tbody tr th {\n",
       "        vertical-align: top;\n",
       "    }\n",
       "\n",
       "    .dataframe thead th {\n",
       "        text-align: right;\n",
       "    }\n",
       "</style>\n",
       "<table border=\"1\" class=\"dataframe\">\n",
       "  <thead>\n",
       "    <tr style=\"text-align: right;\">\n",
       "      <th></th>\n",
       "      <th></th>\n",
       "      <th></th>\n",
       "      <th></th>\n",
       "      <th>qty</th>\n",
       "    </tr>\n",
       "    <tr>\n",
       "      <th>period</th>\n",
       "      <th>trade_flow_code</th>\n",
       "      <th>partner_code</th>\n",
       "      <th>commodity_code</th>\n",
       "      <th></th>\n",
       "    </tr>\n",
       "  </thead>\n",
       "  <tbody>\n",
       "    <tr>\n",
       "      <th rowspan=\"2\" valign=\"top\">2023-01-01</th>\n",
       "      <th>1</th>\n",
       "      <th>251</th>\n",
       "      <th>13023990000</th>\n",
       "      <td>2</td>\n",
       "    </tr>\n",
       "    <tr>\n",
       "      <th>2</th>\n",
       "      <th>899</th>\n",
       "      <th>16041419000</th>\n",
       "      <td>2</td>\n",
       "    </tr>\n",
       "    <tr>\n",
       "      <th>2023-02-01</th>\n",
       "      <th>1</th>\n",
       "      <th>251</th>\n",
       "      <th>13021990090</th>\n",
       "      <td>2</td>\n",
       "    </tr>\n",
       "    <tr>\n",
       "      <th>2023-03-01</th>\n",
       "      <th>1</th>\n",
       "      <th>251</th>\n",
       "      <th>13023990000</th>\n",
       "      <td>2</td>\n",
       "    </tr>\n",
       "    <tr>\n",
       "      <th>2023-04-01</th>\n",
       "      <th>1</th>\n",
       "      <th>251</th>\n",
       "      <th>13023990000</th>\n",
       "      <td>2</td>\n",
       "    </tr>\n",
       "    <tr>\n",
       "      <th>2023-05-01</th>\n",
       "      <th>2</th>\n",
       "      <th>899</th>\n",
       "      <th>16041419000</th>\n",
       "      <td>2</td>\n",
       "    </tr>\n",
       "    <tr>\n",
       "      <th>2023-06-01</th>\n",
       "      <th>1</th>\n",
       "      <th>251</th>\n",
       "      <th>13023990000</th>\n",
       "      <td>2</td>\n",
       "    </tr>\n",
       "  </tbody>\n",
       "</table>\n",
       "</div>"
      ],
      "text/plain": [
       "                                                        qty\n",
       "period     trade_flow_code partner_code commodity_code     \n",
       "2023-01-01 1               251          13023990000       2\n",
       "           2               899          16041419000       2\n",
       "2023-02-01 1               251          13021990090       2\n",
       "2023-03-01 1               251          13023990000       2\n",
       "2023-04-01 1               251          13023990000       2\n",
       "2023-05-01 2               899          16041419000       2\n",
       "2023-06-01 1               251          13023990000       2"
      ]
     },
     "execution_count": 62,
     "metadata": {},
     "output_type": "execute_result"
    }
   ],
   "source": [
    "# Проверка на дубли\n",
    "df_tmp_data.groupby(['period', 'trade_flow_code', 'partner_code', 'commodity_code']).agg({'qty': 'count'}).query('qty > 1')"
   ]
  },
  {
   "cell_type": "code",
   "execution_count": 63,
   "id": "da568ea1",
   "metadata": {},
   "outputs": [
    {
     "data": {
      "text/html": [
       "<div>\n",
       "<style scoped>\n",
       "    .dataframe tbody tr th:only-of-type {\n",
       "        vertical-align: middle;\n",
       "    }\n",
       "\n",
       "    .dataframe tbody tr th {\n",
       "        vertical-align: top;\n",
       "    }\n",
       "\n",
       "    .dataframe thead th {\n",
       "        text-align: right;\n",
       "    }\n",
       "</style>\n",
       "<table border=\"1\" class=\"dataframe\">\n",
       "  <thead>\n",
       "    <tr style=\"text-align: right;\">\n",
       "      <th></th>\n",
       "      <th>classification</th>\n",
       "      <th>year</th>\n",
       "      <th>period</th>\n",
       "      <th>aggregate_level</th>\n",
       "      <th>trade_flow_code</th>\n",
       "      <th>region_code</th>\n",
       "      <th>reporter_code</th>\n",
       "      <th>partner_code</th>\n",
       "      <th>customs_proc_code</th>\n",
       "      <th>commodity_code</th>\n",
       "      <th>qty_unit_code</th>\n",
       "      <th>qty</th>\n",
       "      <th>netweight</th>\n",
       "      <th>trade_value</th>\n",
       "      <th>flag</th>\n",
       "      <th>plus</th>\n",
       "      <th>load_mark</th>\n",
       "      <th>update_date</th>\n",
       "      <th>description</th>\n",
       "      <th>desc</th>\n",
       "    </tr>\n",
       "  </thead>\n",
       "  <tbody>\n",
       "    <tr>\n",
       "      <th>19609</th>\n",
       "      <td>HS</td>\n",
       "      <td>2023</td>\n",
       "      <td>2023-01-01</td>\n",
       "      <td>11</td>\n",
       "      <td>1</td>\n",
       "      <td>NNNNN</td>\n",
       "      <td>764</td>\n",
       "      <td>251</td>\n",
       "      <td>C00</td>\n",
       "      <td>13023990000</td>\n",
       "      <td>8</td>\n",
       "      <td>1347.0</td>\n",
       "      <td>1347.0</td>\n",
       "      <td>97784.378806</td>\n",
       "      <td>0</td>\n",
       "      <td>0</td>\n",
       "      <td>1</td>\n",
       "      <td>2023-10-11</td>\n",
       "      <td>Other ** Other (KGM)</td>\n",
       "      <td>KGM</td>\n",
       "    </tr>\n",
       "    <tr>\n",
       "      <th>19616</th>\n",
       "      <td>HS</td>\n",
       "      <td>2023</td>\n",
       "      <td>2023-01-01</td>\n",
       "      <td>11</td>\n",
       "      <td>1</td>\n",
       "      <td>NNNNN</td>\n",
       "      <td>764</td>\n",
       "      <td>251</td>\n",
       "      <td>C00</td>\n",
       "      <td>13023990000</td>\n",
       "      <td>8</td>\n",
       "      <td>5.0</td>\n",
       "      <td>5.0</td>\n",
       "      <td>289.890378</td>\n",
       "      <td>0</td>\n",
       "      <td>0</td>\n",
       "      <td>1</td>\n",
       "      <td>2023-10-11</td>\n",
       "      <td>Other ** Other (KGM)</td>\n",
       "      <td>KGM</td>\n",
       "    </tr>\n",
       "  </tbody>\n",
       "</table>\n",
       "</div>"
      ],
      "text/plain": [
       "      classification  year      period  aggregate_level  trade_flow_code  \\\n",
       "19609             HS  2023  2023-01-01               11                1   \n",
       "19616             HS  2023  2023-01-01               11                1   \n",
       "\n",
       "      region_code  reporter_code  partner_code customs_proc_code  \\\n",
       "19609       NNNNN            764           251               C00   \n",
       "19616       NNNNN            764           251               C00   \n",
       "\n",
       "      commodity_code  qty_unit_code     qty  netweight   trade_value  flag  \\\n",
       "19609    13023990000              8  1347.0     1347.0  97784.378806     0   \n",
       "19616    13023990000              8     5.0        5.0    289.890378     0   \n",
       "\n",
       "       plus  load_mark update_date           description desc  \n",
       "19609     0          1  2023-10-11  Other ** Other (KGM)  KGM  \n",
       "19616     0          1  2023-10-11  Other ** Other (KGM)  KGM  "
      ]
     },
     "execution_count": 63,
     "metadata": {},
     "output_type": "execute_result"
    }
   ],
   "source": [
    "# Смотрим на дублируемые данные\n",
    "df_tmp_data.query(\"period == '2023-01-01' and partner_code == 251 and  commodity_code == '13023990000'\")"
   ]
  },
  {
   "cell_type": "code",
   "execution_count": 64,
   "id": "16b43831",
   "metadata": {},
   "outputs": [],
   "source": [
    "# Так как в данных есть страны, которые у нас относятся к одному коду, просуммируем их \n",
    "# Пример Франция и Монако\n",
    "df_tmp_data = df_tmp_data.groupby(['classification', 'year', 'period', 'aggregate_level', 'trade_flow_code', 'region_code', 'reporter_code',\n",
    "                     'partner_code', 'customs_proc_code', 'commodity_code', 'qty_unit_code', 'flag', 'plus', 'load_mark', 'update_date'], as_index=False) \\\n",
    "                .agg({'qty': 'sum', 'netweight': 'sum', 'trade_value': 'sum'})"
   ]
  },
  {
   "cell_type": "code",
   "execution_count": 65,
   "id": "fd08b6b5",
   "metadata": {},
   "outputs": [],
   "source": [
    "# Создаем колонки cif и fob\n",
    "df_tmp_data['cif_trade_value'] = df_tmp_data.apply(lambda x: x['trade_value'] if x['trade_flow_code'] == 1 else None, axis=1)\n",
    "df_tmp_data['fob_trade_value'] = df_tmp_data.apply(lambda x: x['trade_value'] if x['trade_flow_code'] == 2 else None, axis=1)"
   ]
  },
  {
   "cell_type": "code",
   "execution_count": 66,
   "id": "e897f530",
   "metadata": {},
   "outputs": [],
   "source": [
    "# # Удаляем не нужные колонки\n",
    "# df_tmp_data.drop(columns=['description', 'desc'], inplace=True)"
   ]
  },
  {
   "cell_type": "code",
   "execution_count": 67,
   "id": "0dee5e05",
   "metadata": {},
   "outputs": [
    {
     "data": {
      "text/html": [
       "<div>\n",
       "<style scoped>\n",
       "    .dataframe tbody tr th:only-of-type {\n",
       "        vertical-align: middle;\n",
       "    }\n",
       "\n",
       "    .dataframe tbody tr th {\n",
       "        vertical-align: top;\n",
       "    }\n",
       "\n",
       "    .dataframe thead th {\n",
       "        text-align: right;\n",
       "    }\n",
       "</style>\n",
       "<table border=\"1\" class=\"dataframe\">\n",
       "  <thead>\n",
       "    <tr style=\"text-align: right;\">\n",
       "      <th></th>\n",
       "      <th>classification</th>\n",
       "      <th>year</th>\n",
       "      <th>period</th>\n",
       "      <th>aggregate_level</th>\n",
       "      <th>trade_flow_code</th>\n",
       "      <th>region_code</th>\n",
       "      <th>reporter_code</th>\n",
       "      <th>partner_code</th>\n",
       "      <th>customs_proc_code</th>\n",
       "      <th>commodity_code</th>\n",
       "      <th>qty_unit_code</th>\n",
       "      <th>flag</th>\n",
       "      <th>plus</th>\n",
       "      <th>load_mark</th>\n",
       "      <th>update_date</th>\n",
       "      <th>qty</th>\n",
       "      <th>netweight</th>\n",
       "      <th>trade_value</th>\n",
       "      <th>cif_trade_value</th>\n",
       "      <th>fob_trade_value</th>\n",
       "    </tr>\n",
       "  </thead>\n",
       "  <tbody>\n",
       "    <tr>\n",
       "      <th>0</th>\n",
       "      <td>HS</td>\n",
       "      <td>2023</td>\n",
       "      <td>2023-01-01</td>\n",
       "      <td>11</td>\n",
       "      <td>1</td>\n",
       "      <td>NNNNN</td>\n",
       "      <td>764</td>\n",
       "      <td>4</td>\n",
       "      <td>C00</td>\n",
       "      <td>08062000000</td>\n",
       "      <td>8</td>\n",
       "      <td>0</td>\n",
       "      <td>0</td>\n",
       "      <td>1</td>\n",
       "      <td>2023-10-11</td>\n",
       "      <td>20000.0</td>\n",
       "      <td>20000.0</td>\n",
       "      <td>33367.844093</td>\n",
       "      <td>33367.844093</td>\n",
       "      <td>NaN</td>\n",
       "    </tr>\n",
       "    <tr>\n",
       "      <th>1</th>\n",
       "      <td>HS</td>\n",
       "      <td>2023</td>\n",
       "      <td>2023-01-01</td>\n",
       "      <td>11</td>\n",
       "      <td>1</td>\n",
       "      <td>NNNNN</td>\n",
       "      <td>764</td>\n",
       "      <td>32</td>\n",
       "      <td>C00</td>\n",
       "      <td>02013000001</td>\n",
       "      <td>8</td>\n",
       "      <td>0</td>\n",
       "      <td>0</td>\n",
       "      <td>1</td>\n",
       "      <td>2023-10-10</td>\n",
       "      <td>3156.0</td>\n",
       "      <td>3156.0</td>\n",
       "      <td>14771.833130</td>\n",
       "      <td>14771.833130</td>\n",
       "      <td>NaN</td>\n",
       "    </tr>\n",
       "  </tbody>\n",
       "</table>\n",
       "</div>"
      ],
      "text/plain": [
       "  classification  year      period  aggregate_level  trade_flow_code  \\\n",
       "0             HS  2023  2023-01-01               11                1   \n",
       "1             HS  2023  2023-01-01               11                1   \n",
       "\n",
       "  region_code  reporter_code  partner_code customs_proc_code commodity_code  \\\n",
       "0       NNNNN            764             4               C00    08062000000   \n",
       "1       NNNNN            764            32               C00    02013000001   \n",
       "\n",
       "   qty_unit_code  flag  plus  load_mark update_date      qty  netweight  \\\n",
       "0              8     0     0          1  2023-10-11  20000.0    20000.0   \n",
       "1              8     0     0          1  2023-10-10   3156.0     3156.0   \n",
       "\n",
       "    trade_value  cif_trade_value  fob_trade_value  \n",
       "0  33367.844093     33367.844093              NaN  \n",
       "1  14771.833130     14771.833130              NaN  "
      ]
     },
     "execution_count": 67,
     "metadata": {},
     "output_type": "execute_result"
    }
   ],
   "source": [
    "df_tmp_data.head(2)"
   ]
  },
  {
   "cell_type": "code",
   "execution_count": 68,
   "id": "d26f0f53",
   "metadata": {},
   "outputs": [
    {
     "data": {
      "text/plain": [
       "(167435, 20)"
      ]
     },
     "execution_count": 68,
     "metadata": {},
     "output_type": "execute_result"
    }
   ],
   "source": [
    "df_tmp_data.shape"
   ]
  },
  {
   "cell_type": "code",
   "execution_count": null,
   "id": "71ea69d4",
   "metadata": {},
   "outputs": [],
   "source": []
  },
  {
   "cell_type": "markdown",
   "id": "70da7c63",
   "metadata": {},
   "source": [
    "# Загрузка данных в БД"
   ]
  },
  {
   "cell_type": "code",
   "execution_count": 69,
   "id": "0156dacb",
   "metadata": {},
   "outputs": [],
   "source": [
    "# Очищаем данные из БД\n",
    "with engine.cursor() as cur:\n",
    "    cur.execute(f'DELETE FROM {name_table[\"name_schema_main\"]}.{name_table[\"name_table_main\"]} WHERE reporter_code = 764')\n",
    "    engine.commit()"
   ]
  },
  {
   "cell_type": "code",
   "execution_count": 72,
   "id": "e4391630",
   "metadata": {},
   "outputs": [],
   "source": [
    "df_count_value = pd.read_sql(f'SELECT COUNT(*) AS count_value FROM {name_table[\"name_schema_main\"]}.{name_table[\"name_table_main\"]} WHERE reporter_code = 764', \n",
    "                             con=engine)\n",
    "сheck_zero = df_count_value.count_value[0]"
   ]
  },
  {
   "cell_type": "code",
   "execution_count": 71,
   "id": "ac43b72d",
   "metadata": {},
   "outputs": [
    {
     "name": "stdout",
     "output_type": "stream",
     "text": [
      "записей в таблице: 0, начинаем загрузку\n"
     ]
    }
   ],
   "source": [
    "if сheck_zero == 0:\n",
    "    print(f'записей в таблице: {сheck_zero}, начинаем загрузку')\n",
    "    df_tmp_data.to_sql(name_table[\"name_table_main\"], con=conn, schema=name_table[\"name_schema_main\"],  \n",
    "                                                                          if_exists='append', index=False)\n",
    "else:\n",
    "    print(f'записей в таблице: {сheck_zero}, произведите удаление лишних элементов')"
   ]
  },
  {
   "cell_type": "code",
   "execution_count": 73,
   "id": "d131a219",
   "metadata": {},
   "outputs": [
    {
     "data": {
      "text/plain": [
       "167435"
      ]
     },
     "execution_count": 73,
     "metadata": {},
     "output_type": "execute_result"
    }
   ],
   "source": [
    "сheck_zero"
   ]
  },
  {
   "cell_type": "markdown",
   "id": "0dc71dfc",
   "metadata": {},
   "source": [
    "# Соборка кодов apk 24+\n",
    "\n",
    "*Выполнить если необходимо обновить коды*"
   ]
  },
  {
   "cell_type": "code",
   "execution_count": 164,
   "id": "39a2e7f3",
   "metadata": {},
   "outputs": [],
   "source": [
    "# Получаем все коды\n",
    "df_cd = pd.read_sql(f\"SELECT code FROM {name_table['name_schema_reference']}.{name_table['name_tb_tnved_code']} WHERE type = 10 AND prod_type = 'apk'\", con=engine)"
   ]
  },
  {
   "cell_type": "code",
   "execution_count": 165,
   "id": "a92e5c89",
   "metadata": {},
   "outputs": [],
   "source": [
    "# Валидируем коды\n",
    "df_cd['bool_col'] = df_cd.code.apply(lambda x: int(x[:2]) > 24 if x.isdigit() else False ) "
   ]
  },
  {
   "cell_type": "code",
   "execution_count": 166,
   "id": "0b08de74",
   "metadata": {},
   "outputs": [],
   "source": [
    "df_cd = df_cd[df_cd.bool_col]"
   ]
  },
  {
   "cell_type": "code",
   "execution_count": 167,
   "id": "03223223",
   "metadata": {},
   "outputs": [],
   "source": [
    "# Отбираем нужное\n",
    "df_cd['need_val'] = df_cd.code.apply(lambda x: x[:4])"
   ]
  },
  {
   "cell_type": "code",
   "execution_count": 168,
   "id": "d80ab9ef",
   "metadata": {},
   "outputs": [
    {
     "data": {
      "text/plain": [
       "40"
      ]
     },
     "execution_count": 168,
     "metadata": {},
     "output_type": "execute_result"
    }
   ],
   "source": [
    "len(df_cd.need_val.unique())"
   ]
  },
  {
   "cell_type": "code",
   "execution_count": 293,
   "id": "ed8c6b62",
   "metadata": {},
   "outputs": [],
   "source": [
    "# Сохраняем в файл\n",
    "with open('25_apk.txt', 'w') as fl:\n",
    "    fl.write(' '.join(df_cd.need_val.unique().tolist()))"
   ]
  },
  {
   "cell_type": "markdown",
   "id": "f3b37076",
   "metadata": {},
   "source": [
    "### [⬅ Навигация](#Навигация)"
   ]
  }
 ],
 "metadata": {
  "kernelspec": {
   "display_name": "Python 3 (ipykernel)",
   "language": "python",
   "name": "python3"
  },
  "language_info": {
   "codemirror_mode": {
    "name": "ipython",
    "version": 3
   },
   "file_extension": ".py",
   "mimetype": "text/x-python",
   "name": "python",
   "nbconvert_exporter": "python",
   "pygments_lexer": "ipython3",
   "version": "3.9.12"
  }
 },
 "nbformat": 4,
 "nbformat_minor": 5
}
